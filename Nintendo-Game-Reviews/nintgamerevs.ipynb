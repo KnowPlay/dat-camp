{
 "cells": [
  {
   "attachments": {},
   "cell_type": "markdown",
   "metadata": {},
   "source": [
    "<!-- PROJECT SUMMARY -->\n",
    "<p align=\"center\">\n",
    "  <h1 align=\"center\">Nintendo Game Review Analysis</h1>\n",
    "</p>\n",
    "\n",
    "<details open=\"open\">\n",
    "  <summary>\n",
    "    <h1 style=\"display: inline-block\">🕹 Table of Content</h1>\n",
    "  </summary>\n",
    "\n",
    "  <ul>\n",
    "    <li>\n",
    "      <a href=\"#about-the-project\">About</a>\n",
    "    </li>\n",
    "    <li>\n",
    "      <a href=\"#getting-started\">Dataset</a>\n",
    "    </li>\n",
    "    <li>\n",
    "      <a href=\"#contributing\">Analysis</a>\n",
    "    </li>\n",
    "      <ul>\n",
    "        <li>\n",
    "          <a href=\"#contributing\">User Reviews</a>\n",
    "        </li>\n",
    "        <li>\n",
    "          <a href=\"#license\">Critic Reviews</a>\n",
    "        </li>\n",
    "      </ul>\n",
    "  </ul>\n",
    "\n",
    "</details>"
   ]
  },
  {
   "attachments": {},
   "cell_type": "markdown",
   "metadata": {},
   "source": [
    "<!-- ABOUT -->\n",
    "## :star: About\n",
    "The goal of this analysis is to explore and visualize ratings to determine the best Nintendo game with web scrapped 2022 dataset using Python. Documentation is done in Jupyter Notebook."
   ]
  },
  {
   "attachments": {},
   "cell_type": "markdown",
   "metadata": {},
   "source": [
    "<!-- DATASET -->\n",
    "\n",
    "## :apple: Dataset\n",
    "\n",
    "A web scrapped dataset, [Nintendo Game Review in 2022](https://medium.com/@codeanddogs/python-crawl-nintendo-game-reviews-6465d04cf31b), is used.\n"
   ]
  },
  {
   "cell_type": "code",
   "execution_count": 1,
   "metadata": {},
   "outputs": [
    {
     "ename": "ModuleNotFoundError",
     "evalue": "No module named 'pandas'",
     "output_type": "error",
     "traceback": [
      "\u001b[0;31m---------------------------------------------------------------------------\u001b[0m",
      "\u001b[0;31mModuleNotFoundError\u001b[0m                       Traceback (most recent call last)",
      "Cell \u001b[0;32mIn[1], line 2\u001b[0m\n\u001b[1;32m      1\u001b[0m \u001b[39m# import Pandas and dataset\u001b[39;00m\n\u001b[0;32m----> 2\u001b[0m \u001b[39mimport\u001b[39;00m \u001b[39mpandas\u001b[39;00m \u001b[39mas\u001b[39;00m \u001b[39mpd\u001b[39;00m\n\u001b[1;32m      4\u001b[0m df \u001b[39m=\u001b[39m pd\u001b[39m.\u001b[39mread_csv(\u001b[39m'\u001b[39m\u001b[39m../Nintendo-Game-Reviews/dataset/GameReviews_Nintendo2022.csv\u001b[39m\u001b[39m'\u001b[39m)\n",
      "\u001b[0;31mModuleNotFoundError\u001b[0m: No module named 'pandas'"
     ]
    }
   ],
   "source": [
    "# import Pandas and dataset\n",
    "import pandas as pd\n",
    "\n",
    "df = pd.read_csv('../Nintendo-Game-Reviews/dataset/GameReviews_Nintendo2022.csv')"
   ]
  },
  {
   "attachments": {},
   "cell_type": "markdown",
   "metadata": {},
   "source": [
    "<!-- EXPLORATION -->\n",
    "\n",
    "### :mag_right: Exploration"
   ]
  },
  {
   "cell_type": "markdown",
   "metadata": {},
   "source": []
  },
  {
   "cell_type": "markdown",
   "metadata": {},
   "source": []
  },
  {
   "cell_type": "code",
   "execution_count": null,
   "metadata": {},
   "outputs": [],
   "source": []
  },
  {
   "cell_type": "markdown",
   "metadata": {},
   "source": []
  },
  {
   "cell_type": "markdown",
   "metadata": {},
   "source": []
  },
  {
   "cell_type": "markdown",
   "metadata": {},
   "source": []
  },
  {
   "cell_type": "markdown",
   "metadata": {},
   "source": []
  },
  {
   "cell_type": "code",
   "execution_count": null,
   "metadata": {},
   "outputs": [],
   "source": []
  }
 ],
 "metadata": {
  "kernelspec": {
   "display_name": "Python 3",
   "language": "python",
   "name": "python3"
  },
  "language_info": {
   "codemirror_mode": {
    "name": "ipython",
    "version": 3
   },
   "file_extension": ".py",
   "mimetype": "text/x-python",
   "name": "python",
   "nbconvert_exporter": "python",
   "pygments_lexer": "ipython3",
   "version": "3.11.3"
  },
  "orig_nbformat": 4
 },
 "nbformat": 4,
 "nbformat_minor": 2
}
