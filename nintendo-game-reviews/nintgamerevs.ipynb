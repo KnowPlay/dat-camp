{
 "cells": [
  {
   "attachments": {},
   "cell_type": "markdown",
   "metadata": {},
   "source": [
    "<!-- PROJECT SUMMARY -->\n",
    "<p align=\"center\">\n",
    "  <h1 align=\"center\">Nintendo Game Review Analysis</h1>\n",
    "</p>\n",
    "\n",
    "<details open=\"open\">\n",
    "  <summary>\n",
    "    <h1 style=\"display: inline-block\">🕹 Table of Content</h1>\n",
    "  </summary>\n",
    "\n",
    "  <ul>\n",
    "    <li>\n",
    "      <a href=\"#about\">About</a>\n",
    "    </li>\n",
    "    <li>\n",
    "      <a href=\"#dataset\">Dataset</a>\n",
    "    </li>\n",
    "      <ul>\n",
    "        <li>\n",
    "          <a href=\"#import\">Importing</a>\n",
    "        </li>\n",
    "        <li>\n",
    "          <a href=\"#exploration\">Wrangling</a>\n",
    "        </li>\n",
    "      </ul>\n",
    "    <li>\n",
    "      <a href=\"#analysis\">Analysis</a>\n",
    "    </li>\n",
    "      <ul>\n",
    "        <li>\n",
    "          <a href=\"#user-reviews\">User Reviews</a>\n",
    "        </li>\n",
    "        <li>\n",
    "          <a href=\"#critic-reviews\">Critic Reviews</a>\n",
    "        </li>\n",
    "      </ul>\n",
    "  </ul>\n",
    "\n",
    "</details>"
   ]
  },
  {
   "attachments": {},
   "cell_type": "markdown",
   "metadata": {},
   "source": [
    "<!-- ABOUT -->\n",
    "## :star: About\n",
    "The goal of this analysis is to explore and visualize ratings to determine the best Nintendo game with web scrapped 2022 dataset using Python. Documentation is done in Jupyter Notebook."
   ]
  },
  {
   "attachments": {},
   "cell_type": "markdown",
   "metadata": {},
   "source": [
    "<!-- DATASET -->\n",
    "\n",
    "## :apple: Dataset\n",
    "\n",
    "A web scrapped dataset, [Nintendo Game Review in 2022](https://medium.com/@codeanddogs/python-crawl-nintendo-game-reviews-6465d04cf31b), is used.\n"
   ]
  },
  {
   "attachments": {},
   "cell_type": "markdown",
   "metadata": {},
   "source": [
    "### :inbox_tray: Importing"
   ]
  },
  {
   "cell_type": "code",
   "execution_count": 1,
   "metadata": {},
   "outputs": [],
   "source": [
    "# import Pandas and dataset\n",
    "import pandas as pd\n",
    "\n",
    "df = pd.read_csv('../Nintendo-Game-Reviews/dataset/GameReviews_Nintendo2022.csv')"
   ]
  },
  {
   "attachments": {},
   "cell_type": "markdown",
   "metadata": {},
   "source": [
    "<!-- EXPLORATION -->\n",
    "\n",
    "### :mag_right: Wrangling"
   ]
  },
  {
   "attachments": {},
   "cell_type": "markdown",
   "metadata": {},
   "source": [
    "Explore"
   ]
  },
  {
   "cell_type": "code",
   "execution_count": 2,
   "metadata": {},
   "outputs": [
    {
     "data": {
      "text/html": [
       "<div>\n",
       "<style scoped>\n",
       "    .dataframe tbody tr th:only-of-type {\n",
       "        vertical-align: middle;\n",
       "    }\n",
       "\n",
       "    .dataframe tbody tr th {\n",
       "        vertical-align: top;\n",
       "    }\n",
       "\n",
       "    .dataframe thead th {\n",
       "        text-align: right;\n",
       "    }\n",
       "</style>\n",
       "<table border=\"1\" class=\"dataframe\">\n",
       "  <thead>\n",
       "    <tr style=\"text-align: right;\">\n",
       "      <th></th>\n",
       "      <th>platform</th>\n",
       "      <th>title</th>\n",
       "      <th>published by</th>\n",
       "      <th>developed by</th>\n",
       "      <th>released</th>\n",
       "      <th>genre</th>\n",
       "      <th>perspective</th>\n",
       "      <th>visual</th>\n",
       "      <th>art</th>\n",
       "      <th>gameplay</th>\n",
       "      <th>interface</th>\n",
       "      <th>userReviews</th>\n",
       "      <th>userReviewCount</th>\n",
       "      <th>averageUserReview</th>\n",
       "      <th>criticReviews</th>\n",
       "      <th>criticReviewCount</th>\n",
       "      <th>averageCriticReview</th>\n",
       "    </tr>\n",
       "  </thead>\n",
       "  <tbody>\n",
       "    <tr>\n",
       "      <th>2456</th>\n",
       "      <td>N64</td>\n",
       "      <td>Re-Volt</td>\n",
       "      <td>Acclaim Entertainment, Inc.</td>\n",
       "      <td>Acclaim Studios Limited</td>\n",
       "      <td>Aug 18, 1999</td>\n",
       "      <td>Action, Racing / Driving</td>\n",
       "      <td>Behind view</td>\n",
       "      <td>NaN</td>\n",
       "      <td>NaN</td>\n",
       "      <td>Arcade</td>\n",
       "      <td>NaN</td>\n",
       "      <td>NaN</td>\n",
       "      <td>0</td>\n",
       "      <td>NaN</td>\n",
       "      <td>[87.0, 84.0, 75.0, 75.0, 70.0, 69.0, 61.0, 50....</td>\n",
       "      <td>10</td>\n",
       "      <td>65.6</td>\n",
       "    </tr>\n",
       "    <tr>\n",
       "      <th>18848</th>\n",
       "      <td>Wii</td>\n",
       "      <td>Casper's Scare School: Spooky Sports Day</td>\n",
       "      <td>Red Wagon Games</td>\n",
       "      <td>Code Monkeys Ltd., The</td>\n",
       "      <td>Nov 02, 2010</td>\n",
       "      <td>Action</td>\n",
       "      <td>NaN</td>\n",
       "      <td>NaN</td>\n",
       "      <td>NaN</td>\n",
       "      <td>Mini-games</td>\n",
       "      <td>NaN</td>\n",
       "      <td>NaN</td>\n",
       "      <td>0</td>\n",
       "      <td>NaN</td>\n",
       "      <td>NaN</td>\n",
       "      <td>0</td>\n",
       "      <td>NaN</td>\n",
       "    </tr>\n",
       "    <tr>\n",
       "      <th>19575</th>\n",
       "      <td>Wii</td>\n",
       "      <td>JumpStart Get Moving Family Fitness</td>\n",
       "      <td>Jumpstart Games, Inc.</td>\n",
       "      <td>Jumpstart Games, Inc.</td>\n",
       "      <td>Jun 01, 2010</td>\n",
       "      <td>Sports</td>\n",
       "      <td>3rd-person (Other)</td>\n",
       "      <td>Fixed / flip-screen</td>\n",
       "      <td>NaN</td>\n",
       "      <td>Mini-games</td>\n",
       "      <td>NaN</td>\n",
       "      <td>NaN</td>\n",
       "      <td>0</td>\n",
       "      <td>NaN</td>\n",
       "      <td>NaN</td>\n",
       "      <td>0</td>\n",
       "      <td>NaN</td>\n",
       "    </tr>\n",
       "    <tr>\n",
       "      <th>22534</th>\n",
       "      <td>Wii U</td>\n",
       "      <td>Tactics Ogre</td>\n",
       "      <td>Square Enix Co., Ltd.</td>\n",
       "      <td>Quest Corporation</td>\n",
       "      <td>Mar 12, 2014</td>\n",
       "      <td>Role-playing (RPG), Strategy</td>\n",
       "      <td>Diagonal-down</td>\n",
       "      <td>Isometric</td>\n",
       "      <td>Anime / Manga</td>\n",
       "      <td>NaN</td>\n",
       "      <td>NaN</td>\n",
       "      <td>NaN</td>\n",
       "      <td>0</td>\n",
       "      <td>NaN</td>\n",
       "      <td>NaN</td>\n",
       "      <td>0</td>\n",
       "      <td>NaN</td>\n",
       "    </tr>\n",
       "    <tr>\n",
       "      <th>7435</th>\n",
       "      <td>SNES</td>\n",
       "      <td>Super Star Wars</td>\n",
       "      <td>JVC Musical Industries, Inc.</td>\n",
       "      <td>Sculptured Software, Inc., LucasArts Entertain...</td>\n",
       "      <td>Jun 01, 1992</td>\n",
       "      <td>Action</td>\n",
       "      <td>1st-person, Behind view, Side view</td>\n",
       "      <td>2D scrolling</td>\n",
       "      <td>NaN</td>\n",
       "      <td>NaN</td>\n",
       "      <td>NaN</td>\n",
       "      <td>[3.0, 3.83, 4.33]</td>\n",
       "      <td>3</td>\n",
       "      <td>3.72</td>\n",
       "      <td>[95.0, 95.0, 93.0, 90.0, 80.0, 75.0, 70.0, 67....</td>\n",
       "      <td>10</td>\n",
       "      <td>77.5</td>\n",
       "    </tr>\n",
       "    <tr>\n",
       "      <th>9018</th>\n",
       "      <td>Switch</td>\n",
       "      <td>Buck Bradley: Comic Adventure</td>\n",
       "      <td>RedDeerGames Sp. z o.o.</td>\n",
       "      <td>CNR - Istituto sull'Inquinamento Atmosferico</td>\n",
       "      <td>Mar 04, 2022</td>\n",
       "      <td>Adventure, Educational</td>\n",
       "      <td>NaN</td>\n",
       "      <td>Fixed / flip-screen</td>\n",
       "      <td>NaN</td>\n",
       "      <td>Graphic adventure, Puzzle elements</td>\n",
       "      <td>NaN</td>\n",
       "      <td>NaN</td>\n",
       "      <td>0</td>\n",
       "      <td>NaN</td>\n",
       "      <td>NaN</td>\n",
       "      <td>0</td>\n",
       "      <td>NaN</td>\n",
       "    </tr>\n",
       "    <tr>\n",
       "      <th>22343</th>\n",
       "      <td>Wii U</td>\n",
       "      <td>The Smurfs 2</td>\n",
       "      <td>Ubisoft, Inc.</td>\n",
       "      <td>WayForward Technologies, Inc.</td>\n",
       "      <td>Jun 23, 2013</td>\n",
       "      <td>Action</td>\n",
       "      <td>Side view</td>\n",
       "      <td>2D scrolling</td>\n",
       "      <td>NaN</td>\n",
       "      <td>Platform, Puzzle elements</td>\n",
       "      <td>NaN</td>\n",
       "      <td>NaN</td>\n",
       "      <td>0</td>\n",
       "      <td>NaN</td>\n",
       "      <td>[58.0, 40.0, 40.0, 30.0]</td>\n",
       "      <td>4</td>\n",
       "      <td>42.0</td>\n",
       "    </tr>\n",
       "    <tr>\n",
       "      <th>7223</th>\n",
       "      <td>SNES</td>\n",
       "      <td>Rex Ronan: Experimental Surgeon</td>\n",
       "      <td>raya systems</td>\n",
       "      <td>Sculptured Software, Inc.</td>\n",
       "      <td>1993</td>\n",
       "      <td>Action, Educational</td>\n",
       "      <td>Side view</td>\n",
       "      <td>NaN</td>\n",
       "      <td>NaN</td>\n",
       "      <td>Fighting, Platform</td>\n",
       "      <td>NaN</td>\n",
       "      <td>NaN</td>\n",
       "      <td>0</td>\n",
       "      <td>NaN</td>\n",
       "      <td>[63.0]</td>\n",
       "      <td>1</td>\n",
       "      <td>63.0</td>\n",
       "    </tr>\n",
       "    <tr>\n",
       "      <th>13102</th>\n",
       "      <td>Switch</td>\n",
       "      <td>Lust for Darkness: Dawn Edition</td>\n",
       "      <td>SimFabric Sp. z o.o.</td>\n",
       "      <td>Movie Games Lunarium</td>\n",
       "      <td>Mar 20, 2020</td>\n",
       "      <td>Adventure</td>\n",
       "      <td>1st-person</td>\n",
       "      <td>NaN</td>\n",
       "      <td>NaN</td>\n",
       "      <td>Graphic adventure, Puzzle elements</td>\n",
       "      <td>NaN</td>\n",
       "      <td>NaN</td>\n",
       "      <td>0</td>\n",
       "      <td>NaN</td>\n",
       "      <td>NaN</td>\n",
       "      <td>0</td>\n",
       "      <td>NaN</td>\n",
       "    </tr>\n",
       "    <tr>\n",
       "      <th>12789</th>\n",
       "      <td>Switch</td>\n",
       "      <td>Legends of Amberland: The Forgotten Crown</td>\n",
       "      <td>Pineapple Works sp. z o.o.</td>\n",
       "      <td>Silver Lemur Games</td>\n",
       "      <td>Apr 20, 2020</td>\n",
       "      <td>Role-playing (RPG)</td>\n",
       "      <td>1st-person, Top-down</td>\n",
       "      <td>2D scrolling</td>\n",
       "      <td>NaN</td>\n",
       "      <td>NaN</td>\n",
       "      <td>NaN</td>\n",
       "      <td>NaN</td>\n",
       "      <td>0</td>\n",
       "      <td>NaN</td>\n",
       "      <td>NaN</td>\n",
       "      <td>0</td>\n",
       "      <td>NaN</td>\n",
       "    </tr>\n",
       "  </tbody>\n",
       "</table>\n",
       "</div>"
      ],
      "text/plain": [
       "      platform                                      title  \\\n",
       "2456       N64                                    Re-Volt   \n",
       "18848      Wii   Casper's Scare School: Spooky Sports Day   \n",
       "19575      Wii        JumpStart Get Moving Family Fitness   \n",
       "22534    Wii U                               Tactics Ogre   \n",
       "7435      SNES                            Super Star Wars   \n",
       "9018    Switch              Buck Bradley: Comic Adventure   \n",
       "22343    Wii U                               The Smurfs 2   \n",
       "7223      SNES            Rex Ronan: Experimental Surgeon   \n",
       "13102   Switch            Lust for Darkness: Dawn Edition   \n",
       "12789   Switch  Legends of Amberland: The Forgotten Crown   \n",
       "\n",
       "                       published by  \\\n",
       "2456    Acclaim Entertainment, Inc.   \n",
       "18848               Red Wagon Games   \n",
       "19575         Jumpstart Games, Inc.   \n",
       "22534         Square Enix Co., Ltd.   \n",
       "7435   JVC Musical Industries, Inc.   \n",
       "9018        RedDeerGames Sp. z o.o.   \n",
       "22343                 Ubisoft, Inc.   \n",
       "7223                   raya systems   \n",
       "13102          SimFabric Sp. z o.o.   \n",
       "12789    Pineapple Works sp. z o.o.   \n",
       "\n",
       "                                            developed by      released  \\\n",
       "2456                             Acclaim Studios Limited  Aug 18, 1999   \n",
       "18848                             Code Monkeys Ltd., The  Nov 02, 2010   \n",
       "19575                              Jumpstart Games, Inc.  Jun 01, 2010   \n",
       "22534                                  Quest Corporation  Mar 12, 2014   \n",
       "7435   Sculptured Software, Inc., LucasArts Entertain...  Jun 01, 1992   \n",
       "9018        CNR - Istituto sull'Inquinamento Atmosferico  Mar 04, 2022   \n",
       "22343                      WayForward Technologies, Inc.  Jun 23, 2013   \n",
       "7223                           Sculptured Software, Inc.          1993   \n",
       "13102                               Movie Games Lunarium  Mar 20, 2020   \n",
       "12789                                 Silver Lemur Games  Apr 20, 2020   \n",
       "\n",
       "                              genre                         perspective  \\\n",
       "2456       Action, Racing / Driving                         Behind view   \n",
       "18848                        Action                                 NaN   \n",
       "19575                        Sports                  3rd-person (Other)   \n",
       "22534  Role-playing (RPG), Strategy                       Diagonal-down   \n",
       "7435                         Action  1st-person, Behind view, Side view   \n",
       "9018         Adventure, Educational                                 NaN   \n",
       "22343                        Action                           Side view   \n",
       "7223            Action, Educational                           Side view   \n",
       "13102                     Adventure                          1st-person   \n",
       "12789            Role-playing (RPG)                1st-person, Top-down   \n",
       "\n",
       "                    visual            art                            gameplay  \\\n",
       "2456                   NaN            NaN                              Arcade   \n",
       "18848                  NaN            NaN                          Mini-games   \n",
       "19575  Fixed / flip-screen            NaN                          Mini-games   \n",
       "22534            Isometric  Anime / Manga                                 NaN   \n",
       "7435          2D scrolling            NaN                                 NaN   \n",
       "9018   Fixed / flip-screen            NaN  Graphic adventure, Puzzle elements   \n",
       "22343         2D scrolling            NaN           Platform, Puzzle elements   \n",
       "7223                   NaN            NaN                  Fighting, Platform   \n",
       "13102                  NaN            NaN  Graphic adventure, Puzzle elements   \n",
       "12789         2D scrolling            NaN                                 NaN   \n",
       "\n",
       "       interface        userReviews  userReviewCount  averageUserReview  \\\n",
       "2456         NaN                NaN                0                NaN   \n",
       "18848        NaN                NaN                0                NaN   \n",
       "19575        NaN                NaN                0                NaN   \n",
       "22534        NaN                NaN                0                NaN   \n",
       "7435         NaN  [3.0, 3.83, 4.33]                3               3.72   \n",
       "9018         NaN                NaN                0                NaN   \n",
       "22343        NaN                NaN                0                NaN   \n",
       "7223         NaN                NaN                0                NaN   \n",
       "13102        NaN                NaN                0                NaN   \n",
       "12789        NaN                NaN                0                NaN   \n",
       "\n",
       "                                           criticReviews  criticReviewCount  \\\n",
       "2456   [87.0, 84.0, 75.0, 75.0, 70.0, 69.0, 61.0, 50....                 10   \n",
       "18848                                                NaN                  0   \n",
       "19575                                                NaN                  0   \n",
       "22534                                                NaN                  0   \n",
       "7435   [95.0, 95.0, 93.0, 90.0, 80.0, 75.0, 70.0, 67....                 10   \n",
       "9018                                                 NaN                  0   \n",
       "22343                           [58.0, 40.0, 40.0, 30.0]                  4   \n",
       "7223                                              [63.0]                  1   \n",
       "13102                                                NaN                  0   \n",
       "12789                                                NaN                  0   \n",
       "\n",
       "       averageCriticReview  \n",
       "2456                  65.6  \n",
       "18848                  NaN  \n",
       "19575                  NaN  \n",
       "22534                  NaN  \n",
       "7435                  77.5  \n",
       "9018                   NaN  \n",
       "22343                 42.0  \n",
       "7223                  63.0  \n",
       "13102                  NaN  \n",
       "12789                  NaN  "
      ]
     },
     "execution_count": 2,
     "metadata": {},
     "output_type": "execute_result"
    }
   ],
   "source": [
    "# examine dataset\n",
    "df.shape\n",
    "\n",
    "# take a random sample of 10 rows\n",
    "df.sample(n=10)"
   ]
  },
  {
   "attachments": {},
   "cell_type": "markdown",
   "metadata": {},
   "source": [
    "Clean"
   ]
  },
  {
   "cell_type": "code",
   "execution_count": 3,
   "metadata": {},
   "outputs": [
    {
     "data": {
      "text/plain": [
       "(10597, 12)"
      ]
     },
     "execution_count": 3,
     "metadata": {},
     "output_type": "execute_result"
    }
   ],
   "source": [
    "# drop 0s\n",
    "df = df.drop(df[(df.userReviewCount == 0) & (df.criticReviewCount  == 0)].index)\n",
    "\n",
    "# select relevant cols\n",
    "df = df.drop(columns=['perspective', 'visual', 'art', 'interface', 'gameplay'])\n",
    "\n",
    "# check result\n",
    "df.shape"
   ]
  },
  {
   "cell_type": "markdown",
   "metadata": {},
   "source": [
    "<!-- ANALYSIS -->\n",
    "\n",
    "## :chart_with_upwards_trend: Analysis"
   ]
  },
  {
   "attachments": {},
   "cell_type": "markdown",
   "metadata": {},
   "source": [
    "### :ok_woman: User Reviews\n",
    "\n",
    "Based on the user reviews, \n",
    "\n",
    "- Perfect Dark on the Nintendo 64 are the best Nintendo games based on user reviews seems to be\n",
    "- Golden Sun on Gameboy Advance and Super Smash Brothers for Gamecube are used to make the top 5 games.  \n",
    "- 4 NES games and 1 N64 Superman are the worst Nintendo games."
   ]
  },
  {
   "cell_type": "code",
   "execution_count": 7,
   "metadata": {},
   "outputs": [
    {
     "data": {
      "text/html": [
       "<div>\n",
       "<style scoped>\n",
       "    .dataframe tbody tr th:only-of-type {\n",
       "        vertical-align: middle;\n",
       "    }\n",
       "\n",
       "    .dataframe tbody tr th {\n",
       "        vertical-align: top;\n",
       "    }\n",
       "\n",
       "    .dataframe thead th {\n",
       "        text-align: right;\n",
       "    }\n",
       "</style>\n",
       "<table border=\"1\" class=\"dataframe\">\n",
       "  <thead>\n",
       "    <tr style=\"text-align: right;\">\n",
       "      <th></th>\n",
       "      <th>platform</th>\n",
       "      <th>title</th>\n",
       "      <th>published by</th>\n",
       "      <th>developed by</th>\n",
       "      <th>released</th>\n",
       "      <th>genre</th>\n",
       "      <th>userReviews</th>\n",
       "      <th>userReviewCount</th>\n",
       "      <th>averageUserReview</th>\n",
       "      <th>criticReviews</th>\n",
       "      <th>criticReviewCount</th>\n",
       "      <th>averageCriticReview</th>\n",
       "    </tr>\n",
       "  </thead>\n",
       "  <tbody>\n",
       "    <tr>\n",
       "      <th>2429</th>\n",
       "      <td>N64</td>\n",
       "      <td>Perfect Dark</td>\n",
       "      <td>Rareware Limited</td>\n",
       "      <td>Rare Limited</td>\n",
       "      <td>May 22, 2000</td>\n",
       "      <td>Action</td>\n",
       "      <td>[4.71, 5.0, 5.0, 5.0]</td>\n",
       "      <td>4</td>\n",
       "      <td>4.927500</td>\n",
       "      <td>[100.0, 100.0, 99.0, 97.0, 95.0, 95.0, 90.0, 9...</td>\n",
       "      <td>10</td>\n",
       "      <td>91.600000</td>\n",
       "    </tr>\n",
       "    <tr>\n",
       "      <th>3749</th>\n",
       "      <td>NES</td>\n",
       "      <td>Super Mario Bros. 3</td>\n",
       "      <td>Nintendo of America Inc.</td>\n",
       "      <td>Nintendo R&amp;D2</td>\n",
       "      <td>Feb, 1990</td>\n",
       "      <td>Action</td>\n",
       "      <td>[4.8, 5.0, 5.0, 5.0, 5.0, 4.6, 5.0]</td>\n",
       "      <td>7</td>\n",
       "      <td>4.914286</td>\n",
       "      <td>[100.0, 100.0, 100.0, 98.0, 98.0, 95.0, 93.0, ...</td>\n",
       "      <td>10</td>\n",
       "      <td>94.200000</td>\n",
       "    </tr>\n",
       "    <tr>\n",
       "      <th>1117</th>\n",
       "      <td>Gameboy Advance</td>\n",
       "      <td>Golden Sun</td>\n",
       "      <td>Nintendo of America Inc.</td>\n",
       "      <td>Camelot Software Planning</td>\n",
       "      <td>Nov 12, 2001</td>\n",
       "      <td>Role-playing (RPG)</td>\n",
       "      <td>[5.0, 4.8, 5.0, 4.8]</td>\n",
       "      <td>4</td>\n",
       "      <td>4.900000</td>\n",
       "      <td>[100.0, 97.0, 95.0, 92.0, 91.0, 90.0, 89.0, 85...</td>\n",
       "      <td>10</td>\n",
       "      <td>85.200000</td>\n",
       "    </tr>\n",
       "    <tr>\n",
       "      <th>2811</th>\n",
       "      <td>NES</td>\n",
       "      <td>Contra</td>\n",
       "      <td>Konami, Inc.</td>\n",
       "      <td>Konami Industry Co. Ltd.</td>\n",
       "      <td>Feb, 1988</td>\n",
       "      <td>Action</td>\n",
       "      <td>[5.0, 5.0, 4.5, 5.0, 5.0]</td>\n",
       "      <td>5</td>\n",
       "      <td>4.900000</td>\n",
       "      <td>[100.0, 100.0, 100.0, 100.0, 91.0, 90.0, 90.0,...</td>\n",
       "      <td>9</td>\n",
       "      <td>92.333333</td>\n",
       "    </tr>\n",
       "    <tr>\n",
       "      <th>2109</th>\n",
       "      <td>Gamecube</td>\n",
       "      <td>Super Smash Bros.: Melee</td>\n",
       "      <td>Nintendo of America Inc.</td>\n",
       "      <td>HAL Laboratory, Inc.</td>\n",
       "      <td>Dec 02, 2001</td>\n",
       "      <td>Action</td>\n",
       "      <td>[5.0, 5.0, 4.4, 4.8, 5.0, 4.8, 5.0, 4.8]</td>\n",
       "      <td>8</td>\n",
       "      <td>4.850000</td>\n",
       "      <td>[100.0, 95.0, 95.0, 94.0, 93.0, 90.0, 90.0, 90...</td>\n",
       "      <td>10</td>\n",
       "      <td>89.200000</td>\n",
       "    </tr>\n",
       "    <tr>\n",
       "      <th>...</th>\n",
       "      <td>...</td>\n",
       "      <td>...</td>\n",
       "      <td>...</td>\n",
       "      <td>...</td>\n",
       "      <td>...</td>\n",
       "      <td>...</td>\n",
       "      <td>...</td>\n",
       "      <td>...</td>\n",
       "      <td>...</td>\n",
       "      <td>...</td>\n",
       "      <td>...</td>\n",
       "      <td>...</td>\n",
       "    </tr>\n",
       "    <tr>\n",
       "      <th>3769</th>\n",
       "      <td>NES</td>\n",
       "      <td>Taboo: The Sixth Sense</td>\n",
       "      <td>Tradewest, Inc.</td>\n",
       "      <td>Rare Limited</td>\n",
       "      <td>May, 1989</td>\n",
       "      <td>Simulation</td>\n",
       "      <td>[1.8, 2.0, 0.4]</td>\n",
       "      <td>3</td>\n",
       "      <td>1.400000</td>\n",
       "      <td>[60.0, 50.0, 19.0, 10.0, 10.0, 0.0, 0.0]</td>\n",
       "      <td>7</td>\n",
       "      <td>21.285714</td>\n",
       "    </tr>\n",
       "    <tr>\n",
       "      <th>2920</th>\n",
       "      <td>NES</td>\n",
       "      <td>Dragon's Lair</td>\n",
       "      <td>CSG Imagesoft Inc.</td>\n",
       "      <td>Motivetime Ltd.</td>\n",
       "      <td>Dec, 1990</td>\n",
       "      <td>Action</td>\n",
       "      <td>[0.4, 1.6, 1.4]</td>\n",
       "      <td>3</td>\n",
       "      <td>1.133333</td>\n",
       "      <td>[100.0, 83.0, 60.0, 50.0, 40.0, 21.0, 10.0, 0....</td>\n",
       "      <td>10</td>\n",
       "      <td>36.400000</td>\n",
       "    </tr>\n",
       "    <tr>\n",
       "      <th>3179</th>\n",
       "      <td>NES</td>\n",
       "      <td>Jaws</td>\n",
       "      <td>LJN Toys, Ltd.</td>\n",
       "      <td>Escape</td>\n",
       "      <td>Dec, 1987</td>\n",
       "      <td>Action</td>\n",
       "      <td>[1.83, 0.5, 1.0]</td>\n",
       "      <td>3</td>\n",
       "      <td>1.110000</td>\n",
       "      <td>[70.0, 60.0, 60.0, 50.0, 40.0, 40.0, 30.0, 30....</td>\n",
       "      <td>9</td>\n",
       "      <td>45.000000</td>\n",
       "    </tr>\n",
       "    <tr>\n",
       "      <th>2574</th>\n",
       "      <td>NES</td>\n",
       "      <td>Action 52</td>\n",
       "      <td>Active Enterprises Ltd.</td>\n",
       "      <td>Active Enterprises Ltd.</td>\n",
       "      <td>1991</td>\n",
       "      <td>Action, Compilation</td>\n",
       "      <td>[0.5, 0.0, 0.0, 1.0, 0.0]</td>\n",
       "      <td>5</td>\n",
       "      <td>0.300000</td>\n",
       "      <td>[20.0, 10.0, 10.0, 10.0, 9.0, 0.0, 0.0]</td>\n",
       "      <td>7</td>\n",
       "      <td>8.428571</td>\n",
       "    </tr>\n",
       "    <tr>\n",
       "      <th>2498</th>\n",
       "      <td>N64</td>\n",
       "      <td>Superman</td>\n",
       "      <td>Titus Software Corporation</td>\n",
       "      <td>Titus France SA</td>\n",
       "      <td>May 29, 1999</td>\n",
       "      <td>Action</td>\n",
       "      <td>[1.0, 0.25, 0.0, 0.0, 0.0]</td>\n",
       "      <td>5</td>\n",
       "      <td>0.250000</td>\n",
       "      <td>[76.0, 70.0, 60.0, 45.0, 40.0, 21.0, 20.0, 20....</td>\n",
       "      <td>10</td>\n",
       "      <td>38.100000</td>\n",
       "    </tr>\n",
       "  </tbody>\n",
       "</table>\n",
       "<p>171 rows × 12 columns</p>\n",
       "</div>"
      ],
      "text/plain": [
       "             platform                     title                published by  \\\n",
       "2429              N64              Perfect Dark            Rareware Limited   \n",
       "3749              NES       Super Mario Bros. 3    Nintendo of America Inc.   \n",
       "1117  Gameboy Advance                Golden Sun    Nintendo of America Inc.   \n",
       "2811              NES                    Contra                Konami, Inc.   \n",
       "2109         Gamecube  Super Smash Bros.: Melee    Nintendo of America Inc.   \n",
       "...               ...                       ...                         ...   \n",
       "3769              NES    Taboo: The Sixth Sense             Tradewest, Inc.   \n",
       "2920              NES             Dragon's Lair          CSG Imagesoft Inc.   \n",
       "3179              NES                      Jaws              LJN Toys, Ltd.   \n",
       "2574              NES                 Action 52     Active Enterprises Ltd.   \n",
       "2498              N64                  Superman  Titus Software Corporation   \n",
       "\n",
       "                   developed by      released                genre  \\\n",
       "2429               Rare Limited  May 22, 2000               Action   \n",
       "3749              Nintendo R&D2     Feb, 1990               Action   \n",
       "1117  Camelot Software Planning  Nov 12, 2001   Role-playing (RPG)   \n",
       "2811   Konami Industry Co. Ltd.     Feb, 1988               Action   \n",
       "2109       HAL Laboratory, Inc.  Dec 02, 2001               Action   \n",
       "...                         ...           ...                  ...   \n",
       "3769               Rare Limited     May, 1989           Simulation   \n",
       "2920            Motivetime Ltd.     Dec, 1990               Action   \n",
       "3179                     Escape     Dec, 1987               Action   \n",
       "2574    Active Enterprises Ltd.          1991  Action, Compilation   \n",
       "2498            Titus France SA  May 29, 1999               Action   \n",
       "\n",
       "                                   userReviews  userReviewCount  \\\n",
       "2429                     [4.71, 5.0, 5.0, 5.0]                4   \n",
       "3749       [4.8, 5.0, 5.0, 5.0, 5.0, 4.6, 5.0]                7   \n",
       "1117                      [5.0, 4.8, 5.0, 4.8]                4   \n",
       "2811                 [5.0, 5.0, 4.5, 5.0, 5.0]                5   \n",
       "2109  [5.0, 5.0, 4.4, 4.8, 5.0, 4.8, 5.0, 4.8]                8   \n",
       "...                                        ...              ...   \n",
       "3769                           [1.8, 2.0, 0.4]                3   \n",
       "2920                           [0.4, 1.6, 1.4]                3   \n",
       "3179                          [1.83, 0.5, 1.0]                3   \n",
       "2574                 [0.5, 0.0, 0.0, 1.0, 0.0]                5   \n",
       "2498                [1.0, 0.25, 0.0, 0.0, 0.0]                5   \n",
       "\n",
       "      averageUserReview                                      criticReviews  \\\n",
       "2429           4.927500  [100.0, 100.0, 99.0, 97.0, 95.0, 95.0, 90.0, 9...   \n",
       "3749           4.914286  [100.0, 100.0, 100.0, 98.0, 98.0, 95.0, 93.0, ...   \n",
       "1117           4.900000  [100.0, 97.0, 95.0, 92.0, 91.0, 90.0, 89.0, 85...   \n",
       "2811           4.900000  [100.0, 100.0, 100.0, 100.0, 91.0, 90.0, 90.0,...   \n",
       "2109           4.850000  [100.0, 95.0, 95.0, 94.0, 93.0, 90.0, 90.0, 90...   \n",
       "...                 ...                                                ...   \n",
       "3769           1.400000           [60.0, 50.0, 19.0, 10.0, 10.0, 0.0, 0.0]   \n",
       "2920           1.133333  [100.0, 83.0, 60.0, 50.0, 40.0, 21.0, 10.0, 0....   \n",
       "3179           1.110000  [70.0, 60.0, 60.0, 50.0, 40.0, 40.0, 30.0, 30....   \n",
       "2574           0.300000            [20.0, 10.0, 10.0, 10.0, 9.0, 0.0, 0.0]   \n",
       "2498           0.250000  [76.0, 70.0, 60.0, 45.0, 40.0, 21.0, 20.0, 20....   \n",
       "\n",
       "      criticReviewCount  averageCriticReview  \n",
       "2429                 10            91.600000  \n",
       "3749                 10            94.200000  \n",
       "1117                 10            85.200000  \n",
       "2811                  9            92.333333  \n",
       "2109                 10            89.200000  \n",
       "...                 ...                  ...  \n",
       "3769                  7            21.285714  \n",
       "2920                 10            36.400000  \n",
       "3179                  9            45.000000  \n",
       "2574                  7             8.428571  \n",
       "2498                 10            38.100000  \n",
       "\n",
       "[171 rows x 12 columns]"
      ]
     },
     "execution_count": 7,
     "metadata": {},
     "output_type": "execute_result"
    }
   ],
   "source": [
    "# sort\n",
    "df = df.sort_values('averageUserReview', ascending=False)\n",
    "\n",
    "# games and their corresponding user reviews\n",
    "df['userReviewCount'].value_counts()\n",
    "\n",
    "# select only games with at least of three user reviews\n",
    "df = df.drop(df[(df.userReviewCount == 0) | (df.userReviewCount  == 1) | (df.userReviewCount  == 2)].index)\n",
    "df['userReviewCount'].value_counts()\n",
    "\n",
    "# sort\n",
    "df = df.sort_values('averageUserReview', ascending=False)\n",
    "df\n",
    "\n",
    "# games and their corresponding user reviews\n",
    "df['userReviewCount'].value_counts()\n",
    "\n",
    "# select only games with at least of three user reviews\n",
    "df = df.drop(df[(df.userReviewCount == 0) | (df.userReviewCount  == 1) | (df.userReviewCount  == 2)].index)\n",
    "df['userReviewCount'].value_counts()\n",
    "\n",
    "# sort\n",
    "df = df.sort_values('averageUserReview', ascending=False)\n",
    "df"
   ]
  },
  {
   "attachments": {},
   "cell_type": "markdown",
   "metadata": {},
   "source": [
    "### :guardsman: Critic Reviews\n"
   ]
  },
  {
   "cell_type": "markdown",
   "metadata": {},
   "source": []
  },
  {
   "attachments": {},
   "cell_type": "markdown",
   "metadata": {},
   "source": [
    "<!-- VISUALIZATION -->\n",
    "\n",
    "## :fireworks: Visualization"
   ]
  },
  {
   "attachments": {},
   "cell_type": "markdown",
   "metadata": {},
   "source": [
    "### :ok_woman: User Reviews"
   ]
  },
  {
   "attachments": {},
   "cell_type": "markdown",
   "metadata": {},
   "source": [
    "Bar Chart"
   ]
  },
  {
   "cell_type": "code",
   "execution_count": 11,
   "metadata": {},
   "outputs": [
    {
     "data": {
      "application/vnd.plotly.v1+json": {
       "config": {
        "plotlyServerURL": "https://plot.ly"
       },
       "data": [
        {
         "alignmentgroup": "True",
         "hovertemplate": "title=%{x}<br>averageUserReview=%{y}<extra></extra>",
         "legendgroup": "",
         "marker": {
          "color": "#636efa",
          "pattern": {
           "shape": ""
          }
         },
         "name": "",
         "offsetgroup": "",
         "orientation": "v",
         "showlegend": false,
         "textposition": "auto",
         "type": "bar",
         "x": [
          "Perfect Dark",
          "Super Mario Bros. 3",
          "Golden Sun",
          "Contra",
          "Super Smash Bros.: Melee",
          "Super Mario All-Stars",
          "Banjo-Tooie",
          "Super Mario World 2: Yoshi's Island",
          "Mega Man 2",
          "Super Mario World",
          "Street Fighter II: The World Warrior",
          "Castlevania: Aria of Sorrow",
          "Fire Emblem",
          "Crystalis",
          "Chrono Trigger"
         ],
         "xaxis": "x",
         "y": [
          4.9275,
          4.914285714285714,
          4.9,
          4.9,
          4.85,
          4.840000000000001,
          4.776666666666666,
          4.75,
          4.7375,
          4.7375,
          4.720000000000001,
          4.720000000000001,
          4.714285714285714,
          4.666666666666667,
          4.666666666666667
         ],
         "yaxis": "y"
        }
       ],
       "layout": {
        "barmode": "relative",
        "legend": {
         "tracegroupgap": 0
        },
        "margin": {
         "t": 60
        },
        "template": {
         "data": {
          "bar": [
           {
            "error_x": {
             "color": "#2a3f5f"
            },
            "error_y": {
             "color": "#2a3f5f"
            },
            "marker": {
             "line": {
              "color": "#E5ECF6",
              "width": 0.5
             },
             "pattern": {
              "fillmode": "overlay",
              "size": 10,
              "solidity": 0.2
             }
            },
            "type": "bar"
           }
          ],
          "barpolar": [
           {
            "marker": {
             "line": {
              "color": "#E5ECF6",
              "width": 0.5
             },
             "pattern": {
              "fillmode": "overlay",
              "size": 10,
              "solidity": 0.2
             }
            },
            "type": "barpolar"
           }
          ],
          "carpet": [
           {
            "aaxis": {
             "endlinecolor": "#2a3f5f",
             "gridcolor": "white",
             "linecolor": "white",
             "minorgridcolor": "white",
             "startlinecolor": "#2a3f5f"
            },
            "baxis": {
             "endlinecolor": "#2a3f5f",
             "gridcolor": "white",
             "linecolor": "white",
             "minorgridcolor": "white",
             "startlinecolor": "#2a3f5f"
            },
            "type": "carpet"
           }
          ],
          "choropleth": [
           {
            "colorbar": {
             "outlinewidth": 0,
             "ticks": ""
            },
            "type": "choropleth"
           }
          ],
          "contour": [
           {
            "colorbar": {
             "outlinewidth": 0,
             "ticks": ""
            },
            "colorscale": [
             [
              0,
              "#0d0887"
             ],
             [
              0.1111111111111111,
              "#46039f"
             ],
             [
              0.2222222222222222,
              "#7201a8"
             ],
             [
              0.3333333333333333,
              "#9c179e"
             ],
             [
              0.4444444444444444,
              "#bd3786"
             ],
             [
              0.5555555555555556,
              "#d8576b"
             ],
             [
              0.6666666666666666,
              "#ed7953"
             ],
             [
              0.7777777777777778,
              "#fb9f3a"
             ],
             [
              0.8888888888888888,
              "#fdca26"
             ],
             [
              1,
              "#f0f921"
             ]
            ],
            "type": "contour"
           }
          ],
          "contourcarpet": [
           {
            "colorbar": {
             "outlinewidth": 0,
             "ticks": ""
            },
            "type": "contourcarpet"
           }
          ],
          "heatmap": [
           {
            "colorbar": {
             "outlinewidth": 0,
             "ticks": ""
            },
            "colorscale": [
             [
              0,
              "#0d0887"
             ],
             [
              0.1111111111111111,
              "#46039f"
             ],
             [
              0.2222222222222222,
              "#7201a8"
             ],
             [
              0.3333333333333333,
              "#9c179e"
             ],
             [
              0.4444444444444444,
              "#bd3786"
             ],
             [
              0.5555555555555556,
              "#d8576b"
             ],
             [
              0.6666666666666666,
              "#ed7953"
             ],
             [
              0.7777777777777778,
              "#fb9f3a"
             ],
             [
              0.8888888888888888,
              "#fdca26"
             ],
             [
              1,
              "#f0f921"
             ]
            ],
            "type": "heatmap"
           }
          ],
          "heatmapgl": [
           {
            "colorbar": {
             "outlinewidth": 0,
             "ticks": ""
            },
            "colorscale": [
             [
              0,
              "#0d0887"
             ],
             [
              0.1111111111111111,
              "#46039f"
             ],
             [
              0.2222222222222222,
              "#7201a8"
             ],
             [
              0.3333333333333333,
              "#9c179e"
             ],
             [
              0.4444444444444444,
              "#bd3786"
             ],
             [
              0.5555555555555556,
              "#d8576b"
             ],
             [
              0.6666666666666666,
              "#ed7953"
             ],
             [
              0.7777777777777778,
              "#fb9f3a"
             ],
             [
              0.8888888888888888,
              "#fdca26"
             ],
             [
              1,
              "#f0f921"
             ]
            ],
            "type": "heatmapgl"
           }
          ],
          "histogram": [
           {
            "marker": {
             "pattern": {
              "fillmode": "overlay",
              "size": 10,
              "solidity": 0.2
             }
            },
            "type": "histogram"
           }
          ],
          "histogram2d": [
           {
            "colorbar": {
             "outlinewidth": 0,
             "ticks": ""
            },
            "colorscale": [
             [
              0,
              "#0d0887"
             ],
             [
              0.1111111111111111,
              "#46039f"
             ],
             [
              0.2222222222222222,
              "#7201a8"
             ],
             [
              0.3333333333333333,
              "#9c179e"
             ],
             [
              0.4444444444444444,
              "#bd3786"
             ],
             [
              0.5555555555555556,
              "#d8576b"
             ],
             [
              0.6666666666666666,
              "#ed7953"
             ],
             [
              0.7777777777777778,
              "#fb9f3a"
             ],
             [
              0.8888888888888888,
              "#fdca26"
             ],
             [
              1,
              "#f0f921"
             ]
            ],
            "type": "histogram2d"
           }
          ],
          "histogram2dcontour": [
           {
            "colorbar": {
             "outlinewidth": 0,
             "ticks": ""
            },
            "colorscale": [
             [
              0,
              "#0d0887"
             ],
             [
              0.1111111111111111,
              "#46039f"
             ],
             [
              0.2222222222222222,
              "#7201a8"
             ],
             [
              0.3333333333333333,
              "#9c179e"
             ],
             [
              0.4444444444444444,
              "#bd3786"
             ],
             [
              0.5555555555555556,
              "#d8576b"
             ],
             [
              0.6666666666666666,
              "#ed7953"
             ],
             [
              0.7777777777777778,
              "#fb9f3a"
             ],
             [
              0.8888888888888888,
              "#fdca26"
             ],
             [
              1,
              "#f0f921"
             ]
            ],
            "type": "histogram2dcontour"
           }
          ],
          "mesh3d": [
           {
            "colorbar": {
             "outlinewidth": 0,
             "ticks": ""
            },
            "type": "mesh3d"
           }
          ],
          "parcoords": [
           {
            "line": {
             "colorbar": {
              "outlinewidth": 0,
              "ticks": ""
             }
            },
            "type": "parcoords"
           }
          ],
          "pie": [
           {
            "automargin": true,
            "type": "pie"
           }
          ],
          "scatter": [
           {
            "fillpattern": {
             "fillmode": "overlay",
             "size": 10,
             "solidity": 0.2
            },
            "type": "scatter"
           }
          ],
          "scatter3d": [
           {
            "line": {
             "colorbar": {
              "outlinewidth": 0,
              "ticks": ""
             }
            },
            "marker": {
             "colorbar": {
              "outlinewidth": 0,
              "ticks": ""
             }
            },
            "type": "scatter3d"
           }
          ],
          "scattercarpet": [
           {
            "marker": {
             "colorbar": {
              "outlinewidth": 0,
              "ticks": ""
             }
            },
            "type": "scattercarpet"
           }
          ],
          "scattergeo": [
           {
            "marker": {
             "colorbar": {
              "outlinewidth": 0,
              "ticks": ""
             }
            },
            "type": "scattergeo"
           }
          ],
          "scattergl": [
           {
            "marker": {
             "colorbar": {
              "outlinewidth": 0,
              "ticks": ""
             }
            },
            "type": "scattergl"
           }
          ],
          "scattermapbox": [
           {
            "marker": {
             "colorbar": {
              "outlinewidth": 0,
              "ticks": ""
             }
            },
            "type": "scattermapbox"
           }
          ],
          "scatterpolar": [
           {
            "marker": {
             "colorbar": {
              "outlinewidth": 0,
              "ticks": ""
             }
            },
            "type": "scatterpolar"
           }
          ],
          "scatterpolargl": [
           {
            "marker": {
             "colorbar": {
              "outlinewidth": 0,
              "ticks": ""
             }
            },
            "type": "scatterpolargl"
           }
          ],
          "scatterternary": [
           {
            "marker": {
             "colorbar": {
              "outlinewidth": 0,
              "ticks": ""
             }
            },
            "type": "scatterternary"
           }
          ],
          "surface": [
           {
            "colorbar": {
             "outlinewidth": 0,
             "ticks": ""
            },
            "colorscale": [
             [
              0,
              "#0d0887"
             ],
             [
              0.1111111111111111,
              "#46039f"
             ],
             [
              0.2222222222222222,
              "#7201a8"
             ],
             [
              0.3333333333333333,
              "#9c179e"
             ],
             [
              0.4444444444444444,
              "#bd3786"
             ],
             [
              0.5555555555555556,
              "#d8576b"
             ],
             [
              0.6666666666666666,
              "#ed7953"
             ],
             [
              0.7777777777777778,
              "#fb9f3a"
             ],
             [
              0.8888888888888888,
              "#fdca26"
             ],
             [
              1,
              "#f0f921"
             ]
            ],
            "type": "surface"
           }
          ],
          "table": [
           {
            "cells": {
             "fill": {
              "color": "#EBF0F8"
             },
             "line": {
              "color": "white"
             }
            },
            "header": {
             "fill": {
              "color": "#C8D4E3"
             },
             "line": {
              "color": "white"
             }
            },
            "type": "table"
           }
          ]
         },
         "layout": {
          "annotationdefaults": {
           "arrowcolor": "#2a3f5f",
           "arrowhead": 0,
           "arrowwidth": 1
          },
          "autotypenumbers": "strict",
          "coloraxis": {
           "colorbar": {
            "outlinewidth": 0,
            "ticks": ""
           }
          },
          "colorscale": {
           "diverging": [
            [
             0,
             "#8e0152"
            ],
            [
             0.1,
             "#c51b7d"
            ],
            [
             0.2,
             "#de77ae"
            ],
            [
             0.3,
             "#f1b6da"
            ],
            [
             0.4,
             "#fde0ef"
            ],
            [
             0.5,
             "#f7f7f7"
            ],
            [
             0.6,
             "#e6f5d0"
            ],
            [
             0.7,
             "#b8e186"
            ],
            [
             0.8,
             "#7fbc41"
            ],
            [
             0.9,
             "#4d9221"
            ],
            [
             1,
             "#276419"
            ]
           ],
           "sequential": [
            [
             0,
             "#0d0887"
            ],
            [
             0.1111111111111111,
             "#46039f"
            ],
            [
             0.2222222222222222,
             "#7201a8"
            ],
            [
             0.3333333333333333,
             "#9c179e"
            ],
            [
             0.4444444444444444,
             "#bd3786"
            ],
            [
             0.5555555555555556,
             "#d8576b"
            ],
            [
             0.6666666666666666,
             "#ed7953"
            ],
            [
             0.7777777777777778,
             "#fb9f3a"
            ],
            [
             0.8888888888888888,
             "#fdca26"
            ],
            [
             1,
             "#f0f921"
            ]
           ],
           "sequentialminus": [
            [
             0,
             "#0d0887"
            ],
            [
             0.1111111111111111,
             "#46039f"
            ],
            [
             0.2222222222222222,
             "#7201a8"
            ],
            [
             0.3333333333333333,
             "#9c179e"
            ],
            [
             0.4444444444444444,
             "#bd3786"
            ],
            [
             0.5555555555555556,
             "#d8576b"
            ],
            [
             0.6666666666666666,
             "#ed7953"
            ],
            [
             0.7777777777777778,
             "#fb9f3a"
            ],
            [
             0.8888888888888888,
             "#fdca26"
            ],
            [
             1,
             "#f0f921"
            ]
           ]
          },
          "colorway": [
           "#636efa",
           "#EF553B",
           "#00cc96",
           "#ab63fa",
           "#FFA15A",
           "#19d3f3",
           "#FF6692",
           "#B6E880",
           "#FF97FF",
           "#FECB52"
          ],
          "font": {
           "color": "#2a3f5f"
          },
          "geo": {
           "bgcolor": "white",
           "lakecolor": "white",
           "landcolor": "#E5ECF6",
           "showlakes": true,
           "showland": true,
           "subunitcolor": "white"
          },
          "hoverlabel": {
           "align": "left"
          },
          "hovermode": "closest",
          "mapbox": {
           "style": "light"
          },
          "paper_bgcolor": "white",
          "plot_bgcolor": "#E5ECF6",
          "polar": {
           "angularaxis": {
            "gridcolor": "white",
            "linecolor": "white",
            "ticks": ""
           },
           "bgcolor": "#E5ECF6",
           "radialaxis": {
            "gridcolor": "white",
            "linecolor": "white",
            "ticks": ""
           }
          },
          "scene": {
           "xaxis": {
            "backgroundcolor": "#E5ECF6",
            "gridcolor": "white",
            "gridwidth": 2,
            "linecolor": "white",
            "showbackground": true,
            "ticks": "",
            "zerolinecolor": "white"
           },
           "yaxis": {
            "backgroundcolor": "#E5ECF6",
            "gridcolor": "white",
            "gridwidth": 2,
            "linecolor": "white",
            "showbackground": true,
            "ticks": "",
            "zerolinecolor": "white"
           },
           "zaxis": {
            "backgroundcolor": "#E5ECF6",
            "gridcolor": "white",
            "gridwidth": 2,
            "linecolor": "white",
            "showbackground": true,
            "ticks": "",
            "zerolinecolor": "white"
           }
          },
          "shapedefaults": {
           "line": {
            "color": "#2a3f5f"
           }
          },
          "ternary": {
           "aaxis": {
            "gridcolor": "white",
            "linecolor": "white",
            "ticks": ""
           },
           "baxis": {
            "gridcolor": "white",
            "linecolor": "white",
            "ticks": ""
           },
           "bgcolor": "#E5ECF6",
           "caxis": {
            "gridcolor": "white",
            "linecolor": "white",
            "ticks": ""
           }
          },
          "title": {
           "x": 0.05
          },
          "xaxis": {
           "automargin": true,
           "gridcolor": "white",
           "linecolor": "white",
           "ticks": "",
           "title": {
            "standoff": 15
           },
           "zerolinecolor": "white",
           "zerolinewidth": 2
          },
          "yaxis": {
           "automargin": true,
           "gridcolor": "white",
           "linecolor": "white",
           "ticks": "",
           "title": {
            "standoff": 15
           },
           "zerolinecolor": "white",
           "zerolinewidth": 2
          }
         }
        },
        "xaxis": {
         "anchor": "y",
         "domain": [
          0,
          1
         ],
         "title": {
          "text": "title"
         }
        },
        "yaxis": {
         "anchor": "x",
         "domain": [
          0,
          1
         ],
         "title": {
          "text": "averageUserReview"
         }
        }
       }
      }
     },
     "metadata": {},
     "output_type": "display_data"
    }
   ],
   "source": [
    "# install plotly using: conda install -c plotly plotly=5.14.1\n",
    "import plotly.express as px\n",
    "\n",
    "# top 15\n",
    "df = df.head(15)\n",
    "\n",
    "# bar\n",
    "fig = px.bar(df, x='title', y='averageUserReview')\n",
    "fig.show()"
   ]
  },
  {
   "cell_type": "markdown",
   "metadata": {},
   "source": [
    "Pie Chart"
   ]
  },
  {
   "cell_type": "code",
   "execution_count": 12,
   "metadata": {},
   "outputs": [
    {
     "data": {
      "application/vnd.plotly.v1+json": {
       "config": {
        "plotlyServerURL": "https://plot.ly"
       },
       "data": [
        {
         "domain": {
          "x": [
           0,
           1
          ],
          "y": [
           0,
           1
          ]
         },
         "hovertemplate": "label=%{label}<br>value=%{value}<extra></extra>",
         "labels": [
          "SNES",
          "NES",
          "Gameboy Advance",
          "N64",
          "Gamecube"
         ],
         "legendgroup": "",
         "name": "",
         "showlegend": true,
         "type": "pie",
         "values": [
          5,
          4,
          3,
          2,
          1
         ]
        }
       ],
       "layout": {
        "legend": {
         "tracegroupgap": 0
        },
        "margin": {
         "t": 60
        },
        "template": {
         "data": {
          "bar": [
           {
            "error_x": {
             "color": "#2a3f5f"
            },
            "error_y": {
             "color": "#2a3f5f"
            },
            "marker": {
             "line": {
              "color": "#E5ECF6",
              "width": 0.5
             },
             "pattern": {
              "fillmode": "overlay",
              "size": 10,
              "solidity": 0.2
             }
            },
            "type": "bar"
           }
          ],
          "barpolar": [
           {
            "marker": {
             "line": {
              "color": "#E5ECF6",
              "width": 0.5
             },
             "pattern": {
              "fillmode": "overlay",
              "size": 10,
              "solidity": 0.2
             }
            },
            "type": "barpolar"
           }
          ],
          "carpet": [
           {
            "aaxis": {
             "endlinecolor": "#2a3f5f",
             "gridcolor": "white",
             "linecolor": "white",
             "minorgridcolor": "white",
             "startlinecolor": "#2a3f5f"
            },
            "baxis": {
             "endlinecolor": "#2a3f5f",
             "gridcolor": "white",
             "linecolor": "white",
             "minorgridcolor": "white",
             "startlinecolor": "#2a3f5f"
            },
            "type": "carpet"
           }
          ],
          "choropleth": [
           {
            "colorbar": {
             "outlinewidth": 0,
             "ticks": ""
            },
            "type": "choropleth"
           }
          ],
          "contour": [
           {
            "colorbar": {
             "outlinewidth": 0,
             "ticks": ""
            },
            "colorscale": [
             [
              0,
              "#0d0887"
             ],
             [
              0.1111111111111111,
              "#46039f"
             ],
             [
              0.2222222222222222,
              "#7201a8"
             ],
             [
              0.3333333333333333,
              "#9c179e"
             ],
             [
              0.4444444444444444,
              "#bd3786"
             ],
             [
              0.5555555555555556,
              "#d8576b"
             ],
             [
              0.6666666666666666,
              "#ed7953"
             ],
             [
              0.7777777777777778,
              "#fb9f3a"
             ],
             [
              0.8888888888888888,
              "#fdca26"
             ],
             [
              1,
              "#f0f921"
             ]
            ],
            "type": "contour"
           }
          ],
          "contourcarpet": [
           {
            "colorbar": {
             "outlinewidth": 0,
             "ticks": ""
            },
            "type": "contourcarpet"
           }
          ],
          "heatmap": [
           {
            "colorbar": {
             "outlinewidth": 0,
             "ticks": ""
            },
            "colorscale": [
             [
              0,
              "#0d0887"
             ],
             [
              0.1111111111111111,
              "#46039f"
             ],
             [
              0.2222222222222222,
              "#7201a8"
             ],
             [
              0.3333333333333333,
              "#9c179e"
             ],
             [
              0.4444444444444444,
              "#bd3786"
             ],
             [
              0.5555555555555556,
              "#d8576b"
             ],
             [
              0.6666666666666666,
              "#ed7953"
             ],
             [
              0.7777777777777778,
              "#fb9f3a"
             ],
             [
              0.8888888888888888,
              "#fdca26"
             ],
             [
              1,
              "#f0f921"
             ]
            ],
            "type": "heatmap"
           }
          ],
          "heatmapgl": [
           {
            "colorbar": {
             "outlinewidth": 0,
             "ticks": ""
            },
            "colorscale": [
             [
              0,
              "#0d0887"
             ],
             [
              0.1111111111111111,
              "#46039f"
             ],
             [
              0.2222222222222222,
              "#7201a8"
             ],
             [
              0.3333333333333333,
              "#9c179e"
             ],
             [
              0.4444444444444444,
              "#bd3786"
             ],
             [
              0.5555555555555556,
              "#d8576b"
             ],
             [
              0.6666666666666666,
              "#ed7953"
             ],
             [
              0.7777777777777778,
              "#fb9f3a"
             ],
             [
              0.8888888888888888,
              "#fdca26"
             ],
             [
              1,
              "#f0f921"
             ]
            ],
            "type": "heatmapgl"
           }
          ],
          "histogram": [
           {
            "marker": {
             "pattern": {
              "fillmode": "overlay",
              "size": 10,
              "solidity": 0.2
             }
            },
            "type": "histogram"
           }
          ],
          "histogram2d": [
           {
            "colorbar": {
             "outlinewidth": 0,
             "ticks": ""
            },
            "colorscale": [
             [
              0,
              "#0d0887"
             ],
             [
              0.1111111111111111,
              "#46039f"
             ],
             [
              0.2222222222222222,
              "#7201a8"
             ],
             [
              0.3333333333333333,
              "#9c179e"
             ],
             [
              0.4444444444444444,
              "#bd3786"
             ],
             [
              0.5555555555555556,
              "#d8576b"
             ],
             [
              0.6666666666666666,
              "#ed7953"
             ],
             [
              0.7777777777777778,
              "#fb9f3a"
             ],
             [
              0.8888888888888888,
              "#fdca26"
             ],
             [
              1,
              "#f0f921"
             ]
            ],
            "type": "histogram2d"
           }
          ],
          "histogram2dcontour": [
           {
            "colorbar": {
             "outlinewidth": 0,
             "ticks": ""
            },
            "colorscale": [
             [
              0,
              "#0d0887"
             ],
             [
              0.1111111111111111,
              "#46039f"
             ],
             [
              0.2222222222222222,
              "#7201a8"
             ],
             [
              0.3333333333333333,
              "#9c179e"
             ],
             [
              0.4444444444444444,
              "#bd3786"
             ],
             [
              0.5555555555555556,
              "#d8576b"
             ],
             [
              0.6666666666666666,
              "#ed7953"
             ],
             [
              0.7777777777777778,
              "#fb9f3a"
             ],
             [
              0.8888888888888888,
              "#fdca26"
             ],
             [
              1,
              "#f0f921"
             ]
            ],
            "type": "histogram2dcontour"
           }
          ],
          "mesh3d": [
           {
            "colorbar": {
             "outlinewidth": 0,
             "ticks": ""
            },
            "type": "mesh3d"
           }
          ],
          "parcoords": [
           {
            "line": {
             "colorbar": {
              "outlinewidth": 0,
              "ticks": ""
             }
            },
            "type": "parcoords"
           }
          ],
          "pie": [
           {
            "automargin": true,
            "type": "pie"
           }
          ],
          "scatter": [
           {
            "fillpattern": {
             "fillmode": "overlay",
             "size": 10,
             "solidity": 0.2
            },
            "type": "scatter"
           }
          ],
          "scatter3d": [
           {
            "line": {
             "colorbar": {
              "outlinewidth": 0,
              "ticks": ""
             }
            },
            "marker": {
             "colorbar": {
              "outlinewidth": 0,
              "ticks": ""
             }
            },
            "type": "scatter3d"
           }
          ],
          "scattercarpet": [
           {
            "marker": {
             "colorbar": {
              "outlinewidth": 0,
              "ticks": ""
             }
            },
            "type": "scattercarpet"
           }
          ],
          "scattergeo": [
           {
            "marker": {
             "colorbar": {
              "outlinewidth": 0,
              "ticks": ""
             }
            },
            "type": "scattergeo"
           }
          ],
          "scattergl": [
           {
            "marker": {
             "colorbar": {
              "outlinewidth": 0,
              "ticks": ""
             }
            },
            "type": "scattergl"
           }
          ],
          "scattermapbox": [
           {
            "marker": {
             "colorbar": {
              "outlinewidth": 0,
              "ticks": ""
             }
            },
            "type": "scattermapbox"
           }
          ],
          "scatterpolar": [
           {
            "marker": {
             "colorbar": {
              "outlinewidth": 0,
              "ticks": ""
             }
            },
            "type": "scatterpolar"
           }
          ],
          "scatterpolargl": [
           {
            "marker": {
             "colorbar": {
              "outlinewidth": 0,
              "ticks": ""
             }
            },
            "type": "scatterpolargl"
           }
          ],
          "scatterternary": [
           {
            "marker": {
             "colorbar": {
              "outlinewidth": 0,
              "ticks": ""
             }
            },
            "type": "scatterternary"
           }
          ],
          "surface": [
           {
            "colorbar": {
             "outlinewidth": 0,
             "ticks": ""
            },
            "colorscale": [
             [
              0,
              "#0d0887"
             ],
             [
              0.1111111111111111,
              "#46039f"
             ],
             [
              0.2222222222222222,
              "#7201a8"
             ],
             [
              0.3333333333333333,
              "#9c179e"
             ],
             [
              0.4444444444444444,
              "#bd3786"
             ],
             [
              0.5555555555555556,
              "#d8576b"
             ],
             [
              0.6666666666666666,
              "#ed7953"
             ],
             [
              0.7777777777777778,
              "#fb9f3a"
             ],
             [
              0.8888888888888888,
              "#fdca26"
             ],
             [
              1,
              "#f0f921"
             ]
            ],
            "type": "surface"
           }
          ],
          "table": [
           {
            "cells": {
             "fill": {
              "color": "#EBF0F8"
             },
             "line": {
              "color": "white"
             }
            },
            "header": {
             "fill": {
              "color": "#C8D4E3"
             },
             "line": {
              "color": "white"
             }
            },
            "type": "table"
           }
          ]
         },
         "layout": {
          "annotationdefaults": {
           "arrowcolor": "#2a3f5f",
           "arrowhead": 0,
           "arrowwidth": 1
          },
          "autotypenumbers": "strict",
          "coloraxis": {
           "colorbar": {
            "outlinewidth": 0,
            "ticks": ""
           }
          },
          "colorscale": {
           "diverging": [
            [
             0,
             "#8e0152"
            ],
            [
             0.1,
             "#c51b7d"
            ],
            [
             0.2,
             "#de77ae"
            ],
            [
             0.3,
             "#f1b6da"
            ],
            [
             0.4,
             "#fde0ef"
            ],
            [
             0.5,
             "#f7f7f7"
            ],
            [
             0.6,
             "#e6f5d0"
            ],
            [
             0.7,
             "#b8e186"
            ],
            [
             0.8,
             "#7fbc41"
            ],
            [
             0.9,
             "#4d9221"
            ],
            [
             1,
             "#276419"
            ]
           ],
           "sequential": [
            [
             0,
             "#0d0887"
            ],
            [
             0.1111111111111111,
             "#46039f"
            ],
            [
             0.2222222222222222,
             "#7201a8"
            ],
            [
             0.3333333333333333,
             "#9c179e"
            ],
            [
             0.4444444444444444,
             "#bd3786"
            ],
            [
             0.5555555555555556,
             "#d8576b"
            ],
            [
             0.6666666666666666,
             "#ed7953"
            ],
            [
             0.7777777777777778,
             "#fb9f3a"
            ],
            [
             0.8888888888888888,
             "#fdca26"
            ],
            [
             1,
             "#f0f921"
            ]
           ],
           "sequentialminus": [
            [
             0,
             "#0d0887"
            ],
            [
             0.1111111111111111,
             "#46039f"
            ],
            [
             0.2222222222222222,
             "#7201a8"
            ],
            [
             0.3333333333333333,
             "#9c179e"
            ],
            [
             0.4444444444444444,
             "#bd3786"
            ],
            [
             0.5555555555555556,
             "#d8576b"
            ],
            [
             0.6666666666666666,
             "#ed7953"
            ],
            [
             0.7777777777777778,
             "#fb9f3a"
            ],
            [
             0.8888888888888888,
             "#fdca26"
            ],
            [
             1,
             "#f0f921"
            ]
           ]
          },
          "colorway": [
           "#636efa",
           "#EF553B",
           "#00cc96",
           "#ab63fa",
           "#FFA15A",
           "#19d3f3",
           "#FF6692",
           "#B6E880",
           "#FF97FF",
           "#FECB52"
          ],
          "font": {
           "color": "#2a3f5f"
          },
          "geo": {
           "bgcolor": "white",
           "lakecolor": "white",
           "landcolor": "#E5ECF6",
           "showlakes": true,
           "showland": true,
           "subunitcolor": "white"
          },
          "hoverlabel": {
           "align": "left"
          },
          "hovermode": "closest",
          "mapbox": {
           "style": "light"
          },
          "paper_bgcolor": "white",
          "plot_bgcolor": "#E5ECF6",
          "polar": {
           "angularaxis": {
            "gridcolor": "white",
            "linecolor": "white",
            "ticks": ""
           },
           "bgcolor": "#E5ECF6",
           "radialaxis": {
            "gridcolor": "white",
            "linecolor": "white",
            "ticks": ""
           }
          },
          "scene": {
           "xaxis": {
            "backgroundcolor": "#E5ECF6",
            "gridcolor": "white",
            "gridwidth": 2,
            "linecolor": "white",
            "showbackground": true,
            "ticks": "",
            "zerolinecolor": "white"
           },
           "yaxis": {
            "backgroundcolor": "#E5ECF6",
            "gridcolor": "white",
            "gridwidth": 2,
            "linecolor": "white",
            "showbackground": true,
            "ticks": "",
            "zerolinecolor": "white"
           },
           "zaxis": {
            "backgroundcolor": "#E5ECF6",
            "gridcolor": "white",
            "gridwidth": 2,
            "linecolor": "white",
            "showbackground": true,
            "ticks": "",
            "zerolinecolor": "white"
           }
          },
          "shapedefaults": {
           "line": {
            "color": "#2a3f5f"
           }
          },
          "ternary": {
           "aaxis": {
            "gridcolor": "white",
            "linecolor": "white",
            "ticks": ""
           },
           "baxis": {
            "gridcolor": "white",
            "linecolor": "white",
            "ticks": ""
           },
           "bgcolor": "#E5ECF6",
           "caxis": {
            "gridcolor": "white",
            "linecolor": "white",
            "ticks": ""
           }
          },
          "title": {
           "x": 0.05
          },
          "xaxis": {
           "automargin": true,
           "gridcolor": "white",
           "linecolor": "white",
           "ticks": "",
           "title": {
            "standoff": 15
           },
           "zerolinecolor": "white",
           "zerolinewidth": 2
          },
          "yaxis": {
           "automargin": true,
           "gridcolor": "white",
           "linecolor": "white",
           "ticks": "",
           "title": {
            "standoff": 15
           },
           "zerolinecolor": "white",
           "zerolinewidth": 2
          }
         }
        }
       }
      }
     },
     "metadata": {},
     "output_type": "display_data"
    }
   ],
   "source": [
    "\n",
    "import plotly.express as px\n",
    "\n",
    "# pie\n",
    "fig = px.pie(df, values=df['platform'].value_counts(), names=df['platform'].value_counts().index.tolist())\n",
    "fig.show()"
   ]
  }
 ],
 "metadata": {
  "kernelspec": {
   "display_name": "Python 3",
   "language": "python",
   "name": "python3"
  },
  "language_info": {
   "codemirror_mode": {
    "name": "ipython",
    "version": 3
   },
   "file_extension": ".py",
   "mimetype": "text/x-python",
   "name": "python",
   "nbconvert_exporter": "python",
   "pygments_lexer": "ipython3",
   "version": "3.9.7"
  },
  "orig_nbformat": 4
 },
 "nbformat": 4,
 "nbformat_minor": 2
}
